{
 "cells": [
  {
   "cell_type": "code",
   "execution_count": 11,
   "id": "876cad0b-6e90-435f-ba67-a49b68996013",
   "metadata": {},
   "outputs": [],
   "source": [
    "import pandas as pd\n",
    "import numpy as np"
   ]
  },
  {
   "cell_type": "code",
   "execution_count": 17,
   "id": "eb5458ca-c25e-429c-9b17-42b889955236",
   "metadata": {},
   "outputs": [],
   "source": [
    "fields=pd.read_csv('data/fields.csv')\n",
    "crops_variety=pd.read_csv('data/crops_variety.csv')\n",
    "inputs=pd.read_csv('data/inputs.csv')"
   ]
  },
  {
   "cell_type": "code",
   "execution_count": 2,
   "id": "5bd0b923-d7db-41e4-8b70-e20fa5cfd4a9",
   "metadata": {},
   "outputs": [
    {
     "name": "stdout",
     "output_type": "stream",
     "text": [
      "test0\n",
      "{'field': 'test_field', 'client': 'test_client', 'farm': 'test_farm'}\n"
     ]
    }
   ],
   "source": [
    "from google.cloud import firestore\n",
    "db=firestore.Client.from_service_account_json('.streamlit/firestore_key.json')\n",
    "doc_ref=db.collection('crop_assignments').document('test0')\n",
    "doc=doc_ref.get()\n",
    "print(doc.id)\n",
    "print(doc.to_dict())\n",
    "#test"
   ]
  },
  {
   "cell_type": "code",
   "execution_count": 4,
   "id": "838252e3-73eb-4e95-b8c8-eddcd620b714",
   "metadata": {},
   "outputs": [],
   "source": [
    "import toml\n",
    "output_file='.streamlit/secrets.toml'\n",
    "with open('.streamlit/firestore_key.json') as json_file:\n",
    "    json_text=json_file.read()\n",
    "    config={'textkey':json_text}\n",
    "    toml_config=toml.dumps(config)\n",
    "    \n",
    "with open(output_file,'w') as target:\n",
    "    target.write(toml_config)\n",
    "    \n",
    "    "
   ]
  },
  {
   "cell_type": "code",
   "execution_count": 10,
   "id": "a1d433a7-26c1-4ae6-8523-63d5f53ab685",
   "metadata": {},
   "outputs": [
    {
     "name": "stdout",
     "output_type": "stream",
     "text": [
      "test0\n",
      "{'client': 'test_client', 'field': 'test_field', 'farm': 'test_farm'}\n"
     ]
    }
   ],
   "source": [
    "from google.cloud import firestore\n",
    "from google.oauth2 import service_account\n",
    "import streamlit as st\n",
    "import json\n",
    "#db=firestore.Client.from_service_account_json('.streamlit/firestore_key.json')\n",
    "key_dict=json.loads(st.secrets['textkey'])\n",
    "creds=service_account.Credentials.from_service_account_info(key_dict)\n",
    "db=firestore.Client(credentials=creds,project='agdata-f5a79')\n",
    "\n",
    "doc_ref=db.collection('crop_assignments').document('test0')\n",
    "doc=doc_ref.get()\n",
    "print(doc.id)\n",
    "print(doc.to_dict())"
   ]
  },
  {
   "cell_type": "code",
   "execution_count": 12,
   "id": "da277b27-b08a-4a6c-b5cd-fc62b2d3e594",
   "metadata": {},
   "outputs": [
    {
     "data": {
      "text/plain": [
       "array(['Arcadia Ag', 'Bart Webster', 'Bob Mortenson', 'Crapo Farms',\n",
       "       'David Schwendiman Farms', 'David and Stan Schwendiman',\n",
       "       'Dobson Ranches', 'Dogson Ranches', 'Erickson',\n",
       "       'Foster Land and Cattle', 'Grand Teton Organics', 'John Sharp',\n",
       "       'Keith Wilcox', 'Parkinson Foundation Seed', 'Parkinson Seed Farm',\n",
       "       'Russel Schwendiman Farms', 'Schwendiman Farms',\n",
       "       'Schwendiman Farms Inc', 'Stan Schwendiman Farms', 'TWR',\n",
       "       'Teton Organics', 'Val Schwendiman Farms', 'Webster Inc',\n",
       "       'Western Ag'], dtype=object)"
      ]
     },
     "execution_count": 12,
     "metadata": {},
     "output_type": "execute_result"
    }
   ],
   "source": [
    "clients=np.sort(fields['Client'].unique())\n",
    "clients"
   ]
  },
  {
   "cell_type": "code",
   "execution_count": 18,
   "id": "6ee51629-15d4-4605-9445-67ee46c5b934",
   "metadata": {
    "tags": []
   },
   "outputs": [
    {
     "data": {
      "text/plain": [
       "array(['Conrad', 'Growler', 'Harrington', 'Metcalfe', 'Voyager'],\n",
       "      dtype=object)"
      ]
     },
     "execution_count": 18,
     "metadata": {},
     "output_type": "execute_result"
    }
   ],
   "source": [
    "crop='Barley'\n",
    "varieties=np.sort(crops_variety[crops_variety['crop']==crop]['variety'].unique())\n",
    "varieties"
   ]
  },
  {
   "cell_type": "code",
   "execution_count": 32,
   "id": "75da58aa-39c6-48e3-bb95-753db775911b",
   "metadata": {
    "tags": []
   },
   "outputs": [
    {
     "data": {
      "text/plain": [
       "[Row(log_datetime=0.0, unq_fldid=0.0, year=0.0, client=0.0, farm=0.0, field=0.0, crop=0.0, variety=0.0)]"
      ]
     },
     "execution_count": 32,
     "metadata": {},
     "output_type": "execute_result"
    }
   ],
   "source": [
    "from gsheetsdb import connect\n",
    "import gspread\n",
    "\n",
    "public_gsheets_url = \"https://docs.google.com/spreadsheets/d/1I9H0bM-ynfnGne_pVJOTtvHDoX15CapzF0L5nJlROy8/edit?usp=sharing\"\n",
    "\n",
    "conn=connect()\n",
    "query=f'SELECT * FROM \"{public_gsheets_url}\"'\n",
    "\n",
    "rows=conn.execute(query,headers=1)\n",
    "rows=rows.fetchall()\n",
    "rows"
   ]
  },
  {
   "cell_type": "code",
   "execution_count": 33,
   "id": "9e972cae-7abb-4ad9-8844-22bcf0970e73",
   "metadata": {},
   "outputs": [
    {
     "data": {
      "text/html": [
       "<div>\n",
       "<style scoped>\n",
       "    .dataframe tbody tr th:only-of-type {\n",
       "        vertical-align: middle;\n",
       "    }\n",
       "\n",
       "    .dataframe tbody tr th {\n",
       "        vertical-align: top;\n",
       "    }\n",
       "\n",
       "    .dataframe thead th {\n",
       "        text-align: right;\n",
       "    }\n",
       "</style>\n",
       "<table border=\"1\" class=\"dataframe\">\n",
       "  <thead>\n",
       "    <tr style=\"text-align: right;\">\n",
       "      <th></th>\n",
       "      <th>log_datetime</th>\n",
       "      <th>unq_fldid</th>\n",
       "      <th>year</th>\n",
       "      <th>client</th>\n",
       "      <th>farm</th>\n",
       "      <th>field</th>\n",
       "      <th>crop</th>\n",
       "      <th>variety</th>\n",
       "    </tr>\n",
       "  </thead>\n",
       "  <tbody>\n",
       "    <tr>\n",
       "      <th>0</th>\n",
       "      <td>0.0</td>\n",
       "      <td>0.0</td>\n",
       "      <td>0.0</td>\n",
       "      <td>0.0</td>\n",
       "      <td>0.0</td>\n",
       "      <td>0.0</td>\n",
       "      <td>0.0</td>\n",
       "      <td>0.0</td>\n",
       "    </tr>\n",
       "  </tbody>\n",
       "</table>\n",
       "</div>"
      ],
      "text/plain": [
       "   log_datetime  unq_fldid  year  client  farm  field  crop  variety\n",
       "0           0.0        0.0   0.0     0.0   0.0    0.0   0.0      0.0"
      ]
     },
     "execution_count": 33,
     "metadata": {},
     "output_type": "execute_result"
    }
   ],
   "source": [
    "df=pd.DataFrame(rows)\n",
    "df"
   ]
  },
  {
   "cell_type": "code",
   "execution_count": null,
   "id": "f19f67bb-d4a6-4068-96a1-c10fccb575c8",
   "metadata": {},
   "outputs": [],
   "source": []
  }
 ],
 "metadata": {
  "kernelspec": {
   "display_name": "Python 3 (ipykernel)",
   "language": "python",
   "name": "python3"
  },
  "language_info": {
   "codemirror_mode": {
    "name": "ipython",
    "version": 3
   },
   "file_extension": ".py",
   "mimetype": "text/x-python",
   "name": "python",
   "nbconvert_exporter": "python",
   "pygments_lexer": "ipython3",
   "version": "3.9.13"
  }
 },
 "nbformat": 4,
 "nbformat_minor": 5
}
